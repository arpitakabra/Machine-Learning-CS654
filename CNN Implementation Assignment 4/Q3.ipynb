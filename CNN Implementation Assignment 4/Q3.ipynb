{
  "nbformat": 4,
  "nbformat_minor": 0,
  "metadata": {
    "colab": {
      "name": "MLA4Q3.ipynb",
      "provenance": [],
      "collapsed_sections": []
    },
    "kernelspec": {
      "name": "python3",
      "display_name": "Python 3"
    },
    "language_info": {
      "name": "python"
    },
    "accelerator": "GPU"
  },
  "cells": [
    {
      "cell_type": "code",
      "execution_count": 65,
      "metadata": {
        "id": "7fuusijKj6R-"
      },
      "outputs": [],
      "source": [
        "import torch.nn as nn\n",
        "class CNN(nn.Module):\n",
        "    def __init__(self):\n",
        "        super(CNN, self).__init__()\n",
        "        self.conv1 = nn.Conv2d(\n",
        "                in_channels=1,              \n",
        "                out_channels=16,            \n",
        "                kernel_size=5,              \n",
        "                stride=1,                   \n",
        "                padding=2,                  \n",
        "            )\n",
        "        self.conv2 = nn.Conv2d(\n",
        "                in_channels=16,              \n",
        "                out_channels=32,            \n",
        "                kernel_size=5,              \n",
        "                stride=1,                   \n",
        "                padding=2,                  \n",
        "            )                                  \n",
        "        self.relu = nn.ReLU()                     \n",
        "        self.pool = nn.MaxPool2d(kernel_size=2)\n",
        "        self.fc = nn.Linear(32 * 7 * 7, 10)\n",
        "    def forward(self, x):\n",
        "        x = self.conv1(x)\n",
        "        x = self.relu(x)\n",
        "        x = self.pool(x)\n",
        "        x = self.conv2(x)\n",
        "        x = self.relu(x)\n",
        "        x = self.pool(x)\n",
        "        x = x.view(x.size(0), -1)       \n",
        "        output = self.fc(x)\n",
        "        return output    # return x for visualization"
      ]
    },
    {
      "cell_type": "code",
      "source": [
        "model1 = CNN()\n",
        "# model.parameters()\n",
        "pytorch_total_params1 = sum(p.numel() for p in model1.parameters() if p.requires_grad)\n",
        "pytorch_total_params1"
      ],
      "metadata": {
        "colab": {
          "base_uri": "https://localhost:8080/"
        },
        "id": "cohi7jqSkDH9",
        "outputId": "e77ddfb7-8575-4046-df63-60e00328b84a"
      },
      "execution_count": 66,
      "outputs": [
        {
          "output_type": "execute_result",
          "data": {
            "text/plain": [
              "28938"
            ]
          },
          "metadata": {},
          "execution_count": 66
        }
      ]
    },
    {
      "cell_type": "code",
      "source": [
        "class MLP(nn.Module):\n",
        "  def __init__(self):\n",
        "    super(MLP,self).__init__()\n",
        "    self.lin1 = nn.Linear(784,37)\n",
        "    self.relu1 = nn.ReLU()\n",
        "    self.lin2 = nn.Linear(37,10)\n",
        "\n",
        "  def forward(self,x):\n",
        "    x = x.view(x.size(0), -1)   \n",
        "    x = self.lin1(x)\n",
        "    x = self.relu1(x)\n",
        "    x = self.lin2(x)\n",
        "    return(x)"
      ],
      "metadata": {
        "id": "LO4ZIYHUkgJd"
      },
      "execution_count": 67,
      "outputs": []
    },
    {
      "cell_type": "code",
      "source": [
        "model2 = MLP()\n",
        "# model.parameters()\n",
        "pytorch_total_params2 = sum(p.numel() for p in model2.parameters() if p.requires_grad)\n",
        "pytorch_total_params2"
      ],
      "metadata": {
        "colab": {
          "base_uri": "https://localhost:8080/"
        },
        "id": "3B8dmV3blgMm",
        "outputId": "8c5a3fb0-aa11-4ce7-f55b-471bba45f183"
      },
      "execution_count": 68,
      "outputs": [
        {
          "output_type": "execute_result",
          "data": {
            "text/plain": [
              "29425"
            ]
          },
          "metadata": {},
          "execution_count": 68
        }
      ]
    },
    {
      "cell_type": "code",
      "source": [
        "import torch\n",
        "device = torch.device('cuda' if torch.cuda.is_available() else 'cpu')\n",
        "device"
      ],
      "metadata": {
        "colab": {
          "base_uri": "https://localhost:8080/"
        },
        "id": "9UyrS4_tmW4S",
        "outputId": "e53f9b7b-71b2-4883-e021-2c660d928564"
      },
      "execution_count": 69,
      "outputs": [
        {
          "output_type": "execute_result",
          "data": {
            "text/plain": [
              "device(type='cuda')"
            ]
          },
          "metadata": {},
          "execution_count": 69
        }
      ]
    },
    {
      "cell_type": "code",
      "source": [
        "from torchvision import datasets\n",
        "from torchvision.transforms import ToTensor\n",
        "train_data = datasets.MNIST(root = 'data',train = True,transform = ToTensor(),download = True)\n",
        "test_data = datasets.MNIST(root = 'data', train = False,transform = ToTensor())"
      ],
      "metadata": {
        "id": "2_kZ6T6VmiPa"
      },
      "execution_count": 70,
      "outputs": []
    },
    {
      "cell_type": "code",
      "source": [
        "print(train_data)\n",
        "print(test_data)"
      ],
      "metadata": {
        "colab": {
          "base_uri": "https://localhost:8080/"
        },
        "id": "DABHNrz1mnz2",
        "outputId": "f1e17878-55f7-41d2-a26d-e59fe8609903"
      },
      "execution_count": 71,
      "outputs": [
        {
          "output_type": "stream",
          "name": "stdout",
          "text": [
            "Dataset MNIST\n",
            "    Number of datapoints: 60000\n",
            "    Root location: data\n",
            "    Split: Train\n",
            "    StandardTransform\n",
            "Transform: ToTensor()\n",
            "Dataset MNIST\n",
            "    Number of datapoints: 10000\n",
            "    Root location: data\n",
            "    Split: Test\n",
            "    StandardTransform\n",
            "Transform: ToTensor()\n"
          ]
        }
      ]
    },
    {
      "cell_type": "code",
      "source": [
        "from torch.utils.data import DataLoader\n",
        "# loaders = {\n",
        "#     'train' : torch.utils.data.DataLoader(train_data, \n",
        "#                                           batch_size=100, \n",
        "#                                           shuffle=True, \n",
        "#                                           num_workers=1),\n",
        "    \n",
        "#     'test'  : torch.utils.data.DataLoader(test_data, \n",
        "#                                           batch_size=100, \n",
        "#                                           shuffle=True, \n",
        "#                                           num_workers=1),\n",
        "# }\n",
        "train_loader = torch.utils.data.DataLoader(train_data, \n",
        "                                          batch_size=100, \n",
        "                                          shuffle=True, \n",
        "                                          num_workers=1)\n",
        "    \n",
        "test_loader =   torch.utils.data.DataLoader(test_data, \n",
        "                                          batch_size=100, \n",
        "                                          shuffle=True, \n",
        "                                          num_workers=1)"
      ],
      "metadata": {
        "id": "0z2we-GRmw9C"
      },
      "execution_count": 72,
      "outputs": []
    },
    {
      "cell_type": "code",
      "source": [
        "loss_func = nn.CrossEntropyLoss() \n",
        "from torch import optim\n",
        "optimizer1 = optim.Adam(model1.parameters(), lr = 0.01)\n",
        "optimizer2 = optim.Adam(model2.parameters(), lr = 0.01)"
      ],
      "metadata": {
        "id": "_N6RcdPam2tP"
      },
      "execution_count": 73,
      "outputs": []
    },
    {
      "cell_type": "code",
      "source": [
        "epochs = 1 \n",
        "for epoch in range(epochs):\n",
        "  for i,(images,labels) in enumerate(train_loader):\n",
        "    output = model1(images)\n",
        "    loss = loss_func(output,labels)\n",
        "    optimizer1.zero_grad()\n",
        "    loss.backward()\n",
        "    optimizer1.step()\n",
        "    if (i%100==0):\n",
        "      print ('Epoch [{}/{}], iter {}, Loss: {:.4f}' \n",
        "                       .format(epoch + 1, epochs, i + 1, loss.item()))\n"
      ],
      "metadata": {
        "colab": {
          "base_uri": "https://localhost:8080/"
        },
        "id": "RrJycF4rr-As",
        "outputId": "f7b0dff3-424e-4424-bb10-61791cf7e7b3"
      },
      "execution_count": 74,
      "outputs": [
        {
          "output_type": "stream",
          "name": "stdout",
          "text": [
            "Epoch [1/1], iter 1, Loss: 2.3000\n",
            "Epoch [1/1], iter 101, Loss: 0.1388\n",
            "Epoch [1/1], iter 201, Loss: 0.0685\n",
            "Epoch [1/1], iter 301, Loss: 0.0591\n",
            "Epoch [1/1], iter 401, Loss: 0.0501\n",
            "Epoch [1/1], iter 501, Loss: 0.0206\n"
          ]
        }
      ]
    },
    {
      "cell_type": "code",
      "source": [
        "epochs = 1 \n",
        "for epoch in range(epochs):\n",
        "  for i,(images,labels) in enumerate(train_loader):\n",
        "    output = model2(images)\n",
        "    loss = loss_func(output,labels)\n",
        "    optimizer2.zero_grad()\n",
        "    loss.backward()\n",
        "    optimizer2.step()\n",
        "    if (i%100==0):\n",
        "      print ('Epoch [{}/{}], iter {}, Loss: {:.4f}' \n",
        "                       .format(epoch + 1, epochs, i + 1, loss.item()))\n"
      ],
      "metadata": {
        "colab": {
          "base_uri": "https://localhost:8080/"
        },
        "id": "Aa5AD3lgMvU7",
        "outputId": "92c9f305-2319-4195-906b-49edf7a0f295"
      },
      "execution_count": 75,
      "outputs": [
        {
          "output_type": "stream",
          "name": "stdout",
          "text": [
            "Epoch [1/1], iter 1, Loss: 2.3145\n",
            "Epoch [1/1], iter 101, Loss: 0.5158\n",
            "Epoch [1/1], iter 201, Loss: 0.2758\n",
            "Epoch [1/1], iter 301, Loss: 0.1298\n",
            "Epoch [1/1], iter 401, Loss: 0.3769\n",
            "Epoch [1/1], iter 501, Loss: 0.1630\n"
          ]
        }
      ]
    },
    {
      "cell_type": "code",
      "source": [
        "correct_model1 = 0\n",
        "correct_model2 = 0\n",
        "for i,(images,labels) in enumerate(test_loader):\n",
        "  output1 = model1(images)\n",
        "  output2 = model2(images)\n",
        "  model1_pred = torch.max(output1,1)[1]\n",
        "  model2_pred = torch.max(output2,1)[1]\n",
        "  correct_model1 += (model1_pred == labels).sum()\n",
        "  correct_model2 += (model2_pred == labels).sum()"
      ],
      "metadata": {
        "id": "voJiGvsKQZwt"
      },
      "execution_count": 76,
      "outputs": []
    },
    {
      "cell_type": "code",
      "source": [
        "print(f'Accuracy of CNN is {(correct_model1*100/len(test_data)):.2f}% \\n Accuracy of MLP is {(correct_model2*100/len(test_data)):.2f}% \\n')"
      ],
      "metadata": {
        "colab": {
          "base_uri": "https://localhost:8080/"
        },
        "id": "lxScUjwyQrxI",
        "outputId": "1385b5e6-e080-4812-d153-e4524f33358c"
      },
      "execution_count": 77,
      "outputs": [
        {
          "output_type": "stream",
          "name": "stdout",
          "text": [
            "Accuracy of CNN is 98.56% \n",
            " Accuracy of MLP is 94.49% \n",
            "\n"
          ]
        }
      ]
    }
  ]
}